{
 "cells": [
  {
   "cell_type": "code",
   "execution_count": 3,
   "id": "90f3a566-60a8-46a8-8d4a-709a20100473",
   "metadata": {},
   "outputs": [],
   "source": [
    "#Pengaturan Tampilan (Display Option) Pada Pandas\n",
    "#LeonyCornelia-2373002"
   ]
  },
  {
   "cell_type": "code",
   "execution_count": 10,
   "id": "02fab6f4-2d41-4960-824d-af9f8db53862",
   "metadata": {},
   "outputs": [
    {
     "name": "stdout",
     "output_type": "stream",
     "text": [
      "2.1.4\n"
     ]
    }
   ],
   "source": [
    "import pandas as pd\n",
    "\n",
    "print(pd.__version__)"
   ]
  },
  {
   "cell_type": "code",
   "execution_count": null,
   "id": "6b890e70-1a68-4c7a-9fb1-801f53acdb69",
   "metadata": {},
   "outputs": [],
   "source": [
    "#Persiapan Dat Frame\n",
    "df = pd.read_csv('./data/titanicfull.csv')\n",
    "df"
   ]
  },
  {
   "cell_type": "code",
   "execution_count": null,
   "id": "b4f5a841-a8e0-494a-814b-dd05b556ebeb",
   "metadata": {},
   "outputs": [],
   "source": [
    "pd.set_option('display.max_rows', 5)\n",
    "pd.set_option('display.max_columns', 6)\n",
    "pd.set_option('display.max_colwidth', 20)\n",
    "\n",
    "df"
   ]
  },
  {
   "cell_type": "code",
   "execution_count": null,
   "id": "e22def3b-5ae2-4d90-990c-1929989ee1a7",
   "metadata": {},
   "outputs": [],
   "source": [
    "pd.reset_option('^display.', silent=True)\n",
    "\n",
    "df"
   ]
  },
  {
   "cell_type": "code",
   "execution_count": null,
   "id": "7e3971d0-c31d-4f8a-b741-0de0b2df7940",
   "metadata": {},
   "outputs": [],
   "source": [
    "pd.describe_option()"
   ]
  }
 ],
 "metadata": {
  "kernelspec": {
   "display_name": "anaconda-2024.02-py310",
   "language": "python",
   "name": "conda-env-anaconda-2024.02-py310-py"
  },
  "language_info": {
   "codemirror_mode": {
    "name": "ipython",
    "version": 3
   },
   "file_extension": ".py",
   "mimetype": "text/x-python",
   "name": "python",
   "nbconvert_exporter": "python",
   "pygments_lexer": "ipython3",
   "version": "3.10.14"
  }
 },
 "nbformat": 4,
 "nbformat_minor": 5
}
