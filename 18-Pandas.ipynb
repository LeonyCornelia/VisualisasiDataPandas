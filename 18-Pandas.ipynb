{
 "cells": [
  {
   "cell_type": "code",
   "execution_count": 1,
   "id": "4673e24f-9832-47ec-871b-1bc6778f7981",
   "metadata": {},
   "outputs": [],
   "source": [
    "#Membentuk Dummy Data Frame\n",
    "#LeonyCornelia-2373002"
   ]
  },
  {
   "cell_type": "code",
   "execution_count": 4,
   "id": "15144e68-dd70-4490-b26a-5ba04ddf8243",
   "metadata": {},
   "outputs": [
    {
     "name": "stdout",
     "output_type": "stream",
     "text": [
      "2.1.4\n",
      "1.26.4\n"
     ]
    }
   ],
   "source": [
    "import pandas as pd\n",
    "import numpy as np\n",
    "\n",
    "print(pd.__version__)\n",
    "print(np.__version__)"
   ]
  },
  {
   "cell_type": "code",
   "execution_count": 6,
   "id": "fdb22a69-1d1f-4fc1-a33c-fcd5b3d0eedb",
   "metadata": {},
   "outputs": [
    {
     "data": {
      "text/html": [
       "<div>\n",
       "<style scoped>\n",
       "    .dataframe tbody tr th:only-of-type {\n",
       "        vertical-align: middle;\n",
       "    }\n",
       "\n",
       "    .dataframe tbody tr th {\n",
       "        vertical-align: top;\n",
       "    }\n",
       "\n",
       "    .dataframe thead th {\n",
       "        text-align: right;\n",
       "    }\n",
       "</style>\n",
       "<table border=\"1\" class=\"dataframe\">\n",
       "  <thead>\n",
       "    <tr style=\"text-align: right;\">\n",
       "      <th></th>\n",
       "      <th>col1</th>\n",
       "      <th>col2</th>\n",
       "    </tr>\n",
       "  </thead>\n",
       "  <tbody>\n",
       "    <tr>\n",
       "      <th>0</th>\n",
       "      <td>1</td>\n",
       "      <td>5</td>\n",
       "    </tr>\n",
       "    <tr>\n",
       "      <th>1</th>\n",
       "      <td>2</td>\n",
       "      <td>6</td>\n",
       "    </tr>\n",
       "    <tr>\n",
       "      <th>2</th>\n",
       "      <td>3</td>\n",
       "      <td>7</td>\n",
       "    </tr>\n",
       "    <tr>\n",
       "      <th>3</th>\n",
       "      <td>4</td>\n",
       "      <td>8</td>\n",
       "    </tr>\n",
       "  </tbody>\n",
       "</table>\n",
       "</div>"
      ],
      "text/plain": [
       "   col1  col2\n",
       "0     1     5\n",
       "1     2     6\n",
       "2     3     7\n",
       "3     4     8"
      ]
     },
     "execution_count": 6,
     "metadata": {},
     "output_type": "execute_result"
    }
   ],
   "source": [
    "#Membentuk Data Frame Dari Dictionary\n",
    "pd.DataFrame({'col1':[1, 2, 3, 4], \n",
    "              'col2':[5, 6, 7, 8]})"
   ]
  },
  {
   "cell_type": "code",
   "execution_count": 8,
   "id": "c1577562-f02d-4eb9-8ad6-c99f794672db",
   "metadata": {},
   "outputs": [
    {
     "data": {
      "text/plain": [
       "array([[ 6, 11, 17],\n",
       "       [13, 14,  8],\n",
       "       [18,  3, 11],\n",
       "       [18, 13, 16],\n",
       "       [ 1, 10, 11]])"
      ]
     },
     "execution_count": 8,
     "metadata": {},
     "output_type": "execute_result"
    }
   ],
   "source": [
    "#Membentuk Data Frame Dari Numpy Array\n",
    "n_rows = 5\n",
    "n_cols = 3\n",
    "\n",
    "arr = np.random.randint(1, 20, size = (n_rows, n_cols))\n",
    "arr"
   ]
  },
  {
   "cell_type": "code",
   "execution_count": 10,
   "id": "6e446042-3057-4d06-83aa-40ebfb341824",
   "metadata": {},
   "outputs": [
    {
     "data": {
      "text/html": [
       "<div>\n",
       "<style scoped>\n",
       "    .dataframe tbody tr th:only-of-type {\n",
       "        vertical-align: middle;\n",
       "    }\n",
       "\n",
       "    .dataframe tbody tr th {\n",
       "        vertical-align: top;\n",
       "    }\n",
       "\n",
       "    .dataframe thead th {\n",
       "        text-align: right;\n",
       "    }\n",
       "</style>\n",
       "<table border=\"1\" class=\"dataframe\">\n",
       "  <thead>\n",
       "    <tr style=\"text-align: right;\">\n",
       "      <th></th>\n",
       "      <th>A</th>\n",
       "      <th>B</th>\n",
       "      <th>C</th>\n",
       "    </tr>\n",
       "  </thead>\n",
       "  <tbody>\n",
       "    <tr>\n",
       "      <th>0</th>\n",
       "      <td>6</td>\n",
       "      <td>11</td>\n",
       "      <td>17</td>\n",
       "    </tr>\n",
       "    <tr>\n",
       "      <th>1</th>\n",
       "      <td>13</td>\n",
       "      <td>14</td>\n",
       "      <td>8</td>\n",
       "    </tr>\n",
       "    <tr>\n",
       "      <th>2</th>\n",
       "      <td>18</td>\n",
       "      <td>3</td>\n",
       "      <td>11</td>\n",
       "    </tr>\n",
       "    <tr>\n",
       "      <th>3</th>\n",
       "      <td>18</td>\n",
       "      <td>13</td>\n",
       "      <td>16</td>\n",
       "    </tr>\n",
       "    <tr>\n",
       "      <th>4</th>\n",
       "      <td>1</td>\n",
       "      <td>10</td>\n",
       "      <td>11</td>\n",
       "    </tr>\n",
       "  </tbody>\n",
       "</table>\n",
       "</div>"
      ],
      "text/plain": [
       "    A   B   C\n",
       "0   6  11  17\n",
       "1  13  14   8\n",
       "2  18   3  11\n",
       "3  18  13  16\n",
       "4   1  10  11"
      ]
     },
     "execution_count": 10,
     "metadata": {},
     "output_type": "execute_result"
    }
   ],
   "source": [
    "pd.DataFrame(arr, columns = tuple('ABC'))"
   ]
  },
  {
   "cell_type": "code",
   "execution_count": 14,
   "id": "86925489-2cc5-4f79-83bc-7c84acc8cb8f",
   "metadata": {},
   "outputs": [
    {
     "name": "stdout",
     "output_type": "stream",
     "text": [
      "          A         B         C         D\n",
      "0 -1.520489 -2.059323  1.681477  0.681286\n",
      "1  0.381192 -1.017795 -2.169427  0.256907\n",
      "2 -0.913183  0.514037 -0.924463  0.051908\n",
      "3 -0.636977 -0.117661 -0.425222 -0.941938\n",
      "4 -0.975206  0.545130  0.793909 -0.751898\n"
     ]
    }
   ],
   "source": [
    "#Membentuk Data Frame Dengan Memanfaatkan Pandas.Util.Testing\n",
    "n_rows = 30 \n",
    "n_cols = 4 \n",
    "columns = list('ABCD')\n",
    "\n",
    "data = np.random.randn(n_rows, n_cols)\n",
    "\n",
    "df = pd.DataFrame(data, columns=columns)\n",
    "\n",
    "print(df.head())"
   ]
  },
  {
   "cell_type": "code",
   "execution_count": 16,
   "id": "66368b67-4729-4294-a8f3-badf8b49aa6b",
   "metadata": {},
   "outputs": [
    {
     "name": "stdout",
     "output_type": "stream",
     "text": [
      "          A  B          C     D\n",
      "0 -0.776326  1 2024-01-01   foo\n",
      "1  0.008811  2 2024-01-02   bar\n",
      "2 -1.362456  3 2024-01-03   baz\n",
      "3  0.533414  4 2024-01-04   qux\n",
      "4 -1.001550  5 2024-01-05  quux\n"
     ]
    }
   ],
   "source": [
    "n_rows = 5 \n",
    "\n",
    "data = {\n",
    "    'A': np.random.randn(n_rows),                 \n",
    "    'B': np.arange(1, n_rows + 1),                \n",
    "    'C': pd.date_range('2024-01-01', periods=n_rows), \n",
    "    'D': ['foo', 'bar', 'baz', 'qux', 'quux']    \n",
    "}\n",
    "\n",
    "df = pd.DataFrame(data)\n",
    "\n",
    "print(df.head())"
   ]
  },
  {
   "cell_type": "code",
   "execution_count": 18,
   "id": "d9fbd29f-6242-41d5-a574-6c387864fb37",
   "metadata": {},
   "outputs": [
    {
     "name": "stdout",
     "output_type": "stream",
     "text": [
      "                   A         B         C         D\n",
      "2024-01-01  0.502855 -1.361215  1.281505  0.457728\n",
      "2024-01-02  0.789737  1.498851  0.509684  3.048230\n",
      "2024-01-03  0.498208  0.550417 -0.837868 -0.091988\n",
      "2024-01-04 -0.788017  1.244963 -0.099123  0.755365\n",
      "2024-01-05  0.069186  0.705121 -0.895131 -0.337494\n"
     ]
    }
   ],
   "source": [
    "n_rows = 30  \n",
    "n_cols = 4   \n",
    "columns = list('ABCD')  \n",
    "\n",
    "time_index = pd.date_range(start='2024-01-01', periods=n_rows, freq='D')  \n",
    "\n",
    "df = pd.DataFrame(np.random.randn(n_rows, n_cols), index=time_index, columns=columns)\n",
    "\n",
    "print(df.head())"
   ]
  },
  {
   "cell_type": "code",
   "execution_count": 20,
   "id": "57f3272c-cbcb-4dff-8067-3fb94cfe340c",
   "metadata": {},
   "outputs": [
    {
     "name": "stdout",
     "output_type": "stream",
     "text": [
      "          A         B         C         D\n",
      "0  1.538261       NaN  0.921691  0.413445\n",
      "1 -1.612203 -0.203888  1.656269  1.264637\n",
      "2 -0.164349 -2.093056  0.925393       NaN\n",
      "3  0.429907 -0.025969 -0.271667 -0.285283\n",
      "4       NaN  0.665796 -0.723616  0.232377\n"
     ]
    }
   ],
   "source": [
    "n_rows = 5\n",
    "n_cols = 4\n",
    "\n",
    "data = np.random.randn(n_rows, n_cols)\n",
    "\n",
    "df = pd.DataFrame(data, columns=list('ABCD'))\n",
    "\n",
    "df.iloc[0, 1] = np.nan\n",
    "df.iloc[2, 3] = np.nan\n",
    "df.iloc[4, 0] = np.nan\n",
    "\n",
    "print(df.head())"
   ]
  }
 ],
 "metadata": {
  "kernelspec": {
   "display_name": "anaconda-2024.02-py310",
   "language": "python",
   "name": "conda-env-anaconda-2024.02-py310-py"
  },
  "language_info": {
   "codemirror_mode": {
    "name": "ipython",
    "version": 3
   },
   "file_extension": ".py",
   "mimetype": "text/x-python",
   "name": "python",
   "nbconvert_exporter": "python",
   "pygments_lexer": "ipython3",
   "version": "3.10.14"
  }
 },
 "nbformat": 4,
 "nbformat_minor": 5
}
