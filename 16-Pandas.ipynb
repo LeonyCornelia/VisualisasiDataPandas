{
 "cells": [
  {
   "cell_type": "code",
   "execution_count": 2,
   "id": "c5146c83-9098-4127-ae9c-2d09f7975a96",
   "metadata": {},
   "outputs": [],
   "source": [
    "#Menggunakan Unstack() Pada Multiple Indexes Data Frame\n",
    "#LeonyCornelia-2373002"
   ]
  },
  {
   "cell_type": "code",
   "execution_count": 6,
   "id": "0adc19c7-48a3-43a5-8fe0-4b8b95fbbbc7",
   "metadata": {},
   "outputs": [
    {
     "name": "stdout",
     "output_type": "stream",
     "text": [
      "2.1.4\n"
     ]
    }
   ],
   "source": [
    "import pandas as pd\n",
    "\n",
    "print(pd.__version__)"
   ]
  },
  {
   "cell_type": "code",
   "execution_count": null,
   "id": "43d8725e-5d11-49c3-97f2-058b1d7be79d",
   "metadata": {},
   "outputs": [],
   "source": [
    "#Persiaspan Data Frame\n",
    "df = pd.read_csv('./data/titanicfull.csv')\n",
    "df.head()"
   ]
  },
  {
   "cell_type": "code",
   "execution_count": null,
   "id": "51466c66-8286-436c-a81f-7f062330d28d",
   "metadata": {},
   "outputs": [],
   "source": [
    "#Data Frame Dengan Multiple Indexes Dari Hasil Groupping\n",
    "df.groupby(['sex', 'pclass'])['survived'].mean().to_frame()"
   ]
  },
  {
   "cell_type": "code",
   "execution_count": null,
   "id": "b4b39efb-33b2-4f38-aa0c-1df8ec6cfd2c",
   "metadata": {},
   "outputs": [],
   "source": [
    "#Menata Ulang Data Frame Dengan Multiple Indexes\n",
    "df.groupby(['sex', 'pclass'])['survived'].mean().unstack()"
   ]
  }
 ],
 "metadata": {
  "kernelspec": {
   "display_name": "anaconda-2024.02-py310",
   "language": "python",
   "name": "conda-env-anaconda-2024.02-py310-py"
  },
  "language_info": {
   "codemirror_mode": {
    "name": "ipython",
    "version": 3
   },
   "file_extension": ".py",
   "mimetype": "text/x-python",
   "name": "python",
   "nbconvert_exporter": "python",
   "pygments_lexer": "ipython3",
   "version": "3.10.14"
  }
 },
 "nbformat": 4,
 "nbformat_minor": 5
}
