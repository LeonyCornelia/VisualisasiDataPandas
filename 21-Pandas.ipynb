{
 "cells": [
  {
   "cell_type": "code",
   "execution_count": 2,
   "id": "1fd76415-6ff0-45e8-8932-b35a673e4101",
   "metadata": {},
   "outputs": [],
   "source": [
    "#Agregasi Pada Data Frame Dengan Agg()\n",
    "#LeonyCornelia-2373002"
   ]
  },
  {
   "cell_type": "code",
   "execution_count": 6,
   "id": "d974f4bd-faec-4898-ab14-d7513514ad98",
   "metadata": {},
   "outputs": [
    {
     "name": "stdout",
     "output_type": "stream",
     "text": [
      "2.1.4\n"
     ]
    }
   ],
   "source": [
    "import pandas as pd\n",
    "\n",
    "print(pd.__version__)"
   ]
  },
  {
   "cell_type": "code",
   "execution_count": null,
   "id": "6eaa991b-fd6b-4802-89f2-e4b01589782b",
   "metadata": {},
   "outputs": [],
   "source": [
    "#Persiapan Data Frame\n",
    "df = pd.read_csv('./data/Iris.csv')\n",
    "df"
   ]
  },
  {
   "cell_type": "code",
   "execution_count": null,
   "id": "1cbd6d3a-d3e9-4d52-9a41-513049eb9fee",
   "metadata": {},
   "outputs": [],
   "source": [
    "#Mengenal Groupby() dan Fungsi Agregasi\n",
    "df.groupby('Species')['PetalLengthCm'].count().to_frame()"
   ]
  },
  {
   "cell_type": "code",
   "execution_count": null,
   "id": "c2ab33ea-c05f-4146-a9fa-a123dd4695ad",
   "metadata": {},
   "outputs": [],
   "source": [
    "df.groupby('Species')['PetalLengthCm'].mean().to_frame()"
   ]
  },
  {
   "cell_type": "code",
   "execution_count": null,
   "id": "ec82d4ca-4ca9-4be3-9afb-4f1cd38cf840",
   "metadata": {},
   "outputs": [],
   "source": [
    "df.groupby('Species')['PetalLengthCm'].median().to_frame()"
   ]
  },
  {
   "cell_type": "code",
   "execution_count": null,
   "id": "b4893a6c-1fc7-4c5c-90e8-267436a1ca1d",
   "metadata": {},
   "outputs": [],
   "source": [
    "#Agregasi Dengan Agg()\n",
    "df.groupby('Species')['PetalLengthCm'].agg(['count', 'mean', 'median'])"
   ]
  },
  {
   "cell_type": "code",
   "execution_count": null,
   "id": "06bc1cfc-6a44-48a6-b775-328570376bd7",
   "metadata": {},
   "outputs": [],
   "source": [
    "#Agregasi Dengan Describe()\n",
    "df.groupby('Species')['PetalLengthCm'].describe()"
   ]
  }
 ],
 "metadata": {
  "kernelspec": {
   "display_name": "anaconda-2024.02-py310",
   "language": "python",
   "name": "conda-env-anaconda-2024.02-py310-py"
  },
  "language_info": {
   "codemirror_mode": {
    "name": "ipython",
    "version": 3
   },
   "file_extension": ".py",
   "mimetype": "text/x-python",
   "name": "python",
   "nbconvert_exporter": "python",
   "pygments_lexer": "ipython3",
   "version": "3.10.14"
  }
 },
 "nbformat": 4,
 "nbformat_minor": 5
}
