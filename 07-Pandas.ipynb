{
 "cells": [
  {
   "cell_type": "code",
   "execution_count": 2,
   "id": "5ea0f7d8-c115-4bce-9f8f-67eb8b2fc745",
   "metadata": {},
   "outputs": [],
   "source": [
    "#Menghapus Missing Values \n",
    "#LeonyCornelia-2373002"
   ]
  },
  {
   "cell_type": "code",
   "execution_count": 18,
   "id": "65b24ab4-dcd6-44cb-86bd-d234a3f5e2a3",
   "metadata": {},
   "outputs": [
    {
     "name": "stdout",
     "output_type": "stream",
     "text": [
      "2.1.4\n",
      "1.26.4\n"
     ]
    }
   ],
   "source": [
    "import pandas as pd\n",
    "import numpy as np\n",
    "\n",
    "print(pd.__version__)\n",
    "print(np.__version__)"
   ]
  },
  {
   "cell_type": "code",
   "execution_count": 25,
   "id": "493d4bcd-1ce4-42e4-ad9c-ac85ccbe989b",
   "metadata": {},
   "outputs": [
    {
     "data": {
      "text/html": [
       "<div>\n",
       "<style scoped>\n",
       "    .dataframe tbody tr th:only-of-type {\n",
       "        vertical-align: middle;\n",
       "    }\n",
       "\n",
       "    .dataframe tbody tr th {\n",
       "        vertical-align: top;\n",
       "    }\n",
       "\n",
       "    .dataframe thead th {\n",
       "        text-align: right;\n",
       "    }\n",
       "</style>\n",
       "<table border=\"1\" class=\"dataframe\">\n",
       "  <thead>\n",
       "    <tr style=\"text-align: right;\">\n",
       "      <th></th>\n",
       "      <th>index</th>\n",
       "      <th>A</th>\n",
       "      <th>B</th>\n",
       "      <th>C</th>\n",
       "      <th>D</th>\n",
       "    </tr>\n",
       "  </thead>\n",
       "  <tbody>\n",
       "    <tr>\n",
       "      <th>0</th>\n",
       "      <td>0</td>\n",
       "      <td>0.164533</td>\n",
       "      <td>-1.319054</td>\n",
       "      <td>0.727624</td>\n",
       "      <td>-0.607114</td>\n",
       "    </tr>\n",
       "    <tr>\n",
       "      <th>1</th>\n",
       "      <td>1</td>\n",
       "      <td>-0.829326</td>\n",
       "      <td>-0.027170</td>\n",
       "      <td>-1.119755</td>\n",
       "      <td>NaN</td>\n",
       "    </tr>\n",
       "    <tr>\n",
       "      <th>2</th>\n",
       "      <td>2</td>\n",
       "      <td>-1.708839</td>\n",
       "      <td>0.150121</td>\n",
       "      <td>-1.080693</td>\n",
       "      <td>NaN</td>\n",
       "    </tr>\n",
       "    <tr>\n",
       "      <th>3</th>\n",
       "      <td>3</td>\n",
       "      <td>-0.363840</td>\n",
       "      <td>-1.721569</td>\n",
       "      <td>-0.910821</td>\n",
       "      <td>-0.524208</td>\n",
       "    </tr>\n",
       "    <tr>\n",
       "      <th>4</th>\n",
       "      <td>4</td>\n",
       "      <td>-1.364775</td>\n",
       "      <td>-1.138497</td>\n",
       "      <td>0.501568</td>\n",
       "      <td>0.972616</td>\n",
       "    </tr>\n",
       "  </tbody>\n",
       "</table>\n",
       "</div>"
      ],
      "text/plain": [
       "   index         A         B         C         D\n",
       "0      0  0.164533 -1.319054  0.727624 -0.607114\n",
       "1      1 -0.829326 -0.027170 -1.119755       NaN\n",
       "2      2 -1.708839  0.150121 -1.080693       NaN\n",
       "3      3 -0.363840 -1.721569 -0.910821 -0.524208\n",
       "4      4 -1.364775 -1.138497  0.501568  0.972616"
      ]
     },
     "execution_count": 25,
     "metadata": {},
     "output_type": "execute_result"
    }
   ],
   "source": [
    "#Persiapan Data Frane\n",
    "n_rows = 30\n",
    "n_cols = 4\n",
    "cols = ['A', 'B', 'C', 'D']\n",
    "\n",
    "df = pd.DataFrame(np.random.randn(n_rows, n_cols), columns=cols)\n",
    "\n",
    "nan_mask = np.random.rand(n_rows, n_cols) < 0.2\n",
    "df[nan_mask] = np.nan\n",
    "\n",
    "df = df.reset_index()\n",
    "df.head()"
   ]
  },
  {
   "cell_type": "code",
   "execution_count": 27,
   "id": "980a3e26-5d29-427f-94a7-02b2ed386d34",
   "metadata": {},
   "outputs": [
    {
     "data": {
      "text/html": [
       "<div>\n",
       "<style scoped>\n",
       "    .dataframe tbody tr th:only-of-type {\n",
       "        vertical-align: middle;\n",
       "    }\n",
       "\n",
       "    .dataframe tbody tr th {\n",
       "        vertical-align: top;\n",
       "    }\n",
       "\n",
       "    .dataframe thead th {\n",
       "        text-align: right;\n",
       "    }\n",
       "</style>\n",
       "<table border=\"1\" class=\"dataframe\">\n",
       "  <thead>\n",
       "    <tr style=\"text-align: right;\">\n",
       "      <th></th>\n",
       "      <th>Z</th>\n",
       "      <th>A</th>\n",
       "      <th>B</th>\n",
       "      <th>C</th>\n",
       "      <th>D</th>\n",
       "    </tr>\n",
       "  </thead>\n",
       "  <tbody>\n",
       "    <tr>\n",
       "      <th>0</th>\n",
       "      <td>0</td>\n",
       "      <td>0.164533</td>\n",
       "      <td>-1.319054</td>\n",
       "      <td>0.727624</td>\n",
       "      <td>-0.607114</td>\n",
       "    </tr>\n",
       "    <tr>\n",
       "      <th>1</th>\n",
       "      <td>1</td>\n",
       "      <td>-0.829326</td>\n",
       "      <td>-0.027170</td>\n",
       "      <td>-1.119755</td>\n",
       "      <td>NaN</td>\n",
       "    </tr>\n",
       "    <tr>\n",
       "      <th>2</th>\n",
       "      <td>2</td>\n",
       "      <td>-1.708839</td>\n",
       "      <td>0.150121</td>\n",
       "      <td>-1.080693</td>\n",
       "      <td>NaN</td>\n",
       "    </tr>\n",
       "    <tr>\n",
       "      <th>3</th>\n",
       "      <td>3</td>\n",
       "      <td>-0.363840</td>\n",
       "      <td>-1.721569</td>\n",
       "      <td>-0.910821</td>\n",
       "      <td>-0.524208</td>\n",
       "    </tr>\n",
       "    <tr>\n",
       "      <th>4</th>\n",
       "      <td>4</td>\n",
       "      <td>-1.364775</td>\n",
       "      <td>-1.138497</td>\n",
       "      <td>0.501568</td>\n",
       "      <td>0.972616</td>\n",
       "    </tr>\n",
       "  </tbody>\n",
       "</table>\n",
       "</div>"
      ],
      "text/plain": [
       "   Z         A         B         C         D\n",
       "0  0  0.164533 -1.319054  0.727624 -0.607114\n",
       "1  1 -0.829326 -0.027170 -1.119755       NaN\n",
       "2  2 -1.708839  0.150121 -1.080693       NaN\n",
       "3  3 -0.363840 -1.721569 -0.910821 -0.524208\n",
       "4  4 -1.364775 -1.138497  0.501568  0.972616"
      ]
     },
     "execution_count": 27,
     "metadata": {},
     "output_type": "execute_result"
    }
   ],
   "source": [
    "df = df.rename(columns={'index':'Z'})\n",
    "df.head()"
   ]
  },
  {
   "cell_type": "code",
   "execution_count": 31,
   "id": "12355ce4-36a9-41b2-9c9c-f6ac3eabc21f",
   "metadata": {},
   "outputs": [],
   "source": [
    "df_backup = df.copy(deep = True)"
   ]
  },
  {
   "cell_type": "code",
   "execution_count": 35,
   "id": "b14731e8-02d8-42ef-8764-4662d5a81e26",
   "metadata": {},
   "outputs": [
    {
     "data": {
      "text/html": [
       "<div>\n",
       "<style scoped>\n",
       "    .dataframe tbody tr th:only-of-type {\n",
       "        vertical-align: middle;\n",
       "    }\n",
       "\n",
       "    .dataframe tbody tr th {\n",
       "        vertical-align: top;\n",
       "    }\n",
       "\n",
       "    .dataframe thead th {\n",
       "        text-align: right;\n",
       "    }\n",
       "</style>\n",
       "<table border=\"1\" class=\"dataframe\">\n",
       "  <thead>\n",
       "    <tr style=\"text-align: right;\">\n",
       "      <th></th>\n",
       "      <th>Z</th>\n",
       "    </tr>\n",
       "  </thead>\n",
       "  <tbody>\n",
       "    <tr>\n",
       "      <th>0</th>\n",
       "      <td>0</td>\n",
       "    </tr>\n",
       "    <tr>\n",
       "      <th>1</th>\n",
       "      <td>1</td>\n",
       "    </tr>\n",
       "    <tr>\n",
       "      <th>2</th>\n",
       "      <td>2</td>\n",
       "    </tr>\n",
       "    <tr>\n",
       "      <th>3</th>\n",
       "      <td>3</td>\n",
       "    </tr>\n",
       "    <tr>\n",
       "      <th>4</th>\n",
       "      <td>4</td>\n",
       "    </tr>\n",
       "  </tbody>\n",
       "</table>\n",
       "</div>"
      ],
      "text/plain": [
       "   Z\n",
       "0  0\n",
       "1  1\n",
       "2  2\n",
       "3  3\n",
       "4  4"
      ]
     },
     "execution_count": 35,
     "metadata": {},
     "output_type": "execute_result"
    }
   ],
   "source": [
    "#Menghapus (drop) Setiap Kolom Yang Mengandung Missing Values\n",
    "df = df.dropna(axis = 'columns') \n",
    "df.head()"
   ]
  },
  {
   "cell_type": "code",
   "execution_count": 37,
   "id": "4bf309c6-830a-40e2-99fd-3568054d0230",
   "metadata": {},
   "outputs": [
    {
     "data": {
      "text/html": [
       "<div>\n",
       "<style scoped>\n",
       "    .dataframe tbody tr th:only-of-type {\n",
       "        vertical-align: middle;\n",
       "    }\n",
       "\n",
       "    .dataframe tbody tr th {\n",
       "        vertical-align: top;\n",
       "    }\n",
       "\n",
       "    .dataframe thead th {\n",
       "        text-align: right;\n",
       "    }\n",
       "</style>\n",
       "<table border=\"1\" class=\"dataframe\">\n",
       "  <thead>\n",
       "    <tr style=\"text-align: right;\">\n",
       "      <th></th>\n",
       "      <th>Z</th>\n",
       "      <th>A</th>\n",
       "      <th>B</th>\n",
       "      <th>C</th>\n",
       "      <th>D</th>\n",
       "    </tr>\n",
       "  </thead>\n",
       "  <tbody>\n",
       "    <tr>\n",
       "      <th>0</th>\n",
       "      <td>0</td>\n",
       "      <td>0.164533</td>\n",
       "      <td>-1.319054</td>\n",
       "      <td>0.727624</td>\n",
       "      <td>-0.607114</td>\n",
       "    </tr>\n",
       "    <tr>\n",
       "      <th>3</th>\n",
       "      <td>3</td>\n",
       "      <td>-0.363840</td>\n",
       "      <td>-1.721569</td>\n",
       "      <td>-0.910821</td>\n",
       "      <td>-0.524208</td>\n",
       "    </tr>\n",
       "    <tr>\n",
       "      <th>4</th>\n",
       "      <td>4</td>\n",
       "      <td>-1.364775</td>\n",
       "      <td>-1.138497</td>\n",
       "      <td>0.501568</td>\n",
       "      <td>0.972616</td>\n",
       "    </tr>\n",
       "    <tr>\n",
       "      <th>5</th>\n",
       "      <td>5</td>\n",
       "      <td>-1.625038</td>\n",
       "      <td>0.382098</td>\n",
       "      <td>0.227755</td>\n",
       "      <td>0.146036</td>\n",
       "    </tr>\n",
       "    <tr>\n",
       "      <th>6</th>\n",
       "      <td>6</td>\n",
       "      <td>0.272142</td>\n",
       "      <td>-0.406990</td>\n",
       "      <td>2.341393</td>\n",
       "      <td>0.203002</td>\n",
       "    </tr>\n",
       "  </tbody>\n",
       "</table>\n",
       "</div>"
      ],
      "text/plain": [
       "   Z         A         B         C         D\n",
       "0  0  0.164533 -1.319054  0.727624 -0.607114\n",
       "3  3 -0.363840 -1.721569 -0.910821 -0.524208\n",
       "4  4 -1.364775 -1.138497  0.501568  0.972616\n",
       "5  5 -1.625038  0.382098  0.227755  0.146036\n",
       "6  6  0.272142 -0.406990  2.341393  0.203002"
      ]
     },
     "execution_count": 37,
     "metadata": {},
     "output_type": "execute_result"
    }
   ],
   "source": [
    "#Menghapus(drop) Setiap Baris Yang Mengandung Missing Vlues\n",
    "df = df_backup.copy(deep = True)\n",
    "df = df.dropna(axis = 'rows')\n",
    "df.head()"
   ]
  },
  {
   "cell_type": "code",
   "execution_count": 39,
   "id": "d0642d5c-bba8-4807-b235-6c6c28645413",
   "metadata": {},
   "outputs": [
    {
     "data": {
      "text/plain": [
       "Z    0.000000\n",
       "A    0.133333\n",
       "B    0.166667\n",
       "C    0.100000\n",
       "D    0.300000\n",
       "dtype: float64"
      ]
     },
     "execution_count": 39,
     "metadata": {},
     "output_type": "execute_result"
    }
   ],
   "source": [
    "#Persentase Missing Values Untuk Setiap Kolom\n",
    "df = df_backup.copy(deep = True)\n",
    "df.isna().mean()"
   ]
  },
  {
   "cell_type": "code",
   "execution_count": 43,
   "id": "911d5878-92b0-4126-a03f-8fc0289fc2ce",
   "metadata": {},
   "outputs": [
    {
     "data": {
      "text/html": [
       "<div>\n",
       "<style scoped>\n",
       "    .dataframe tbody tr th:only-of-type {\n",
       "        vertical-align: middle;\n",
       "    }\n",
       "\n",
       "    .dataframe tbody tr th {\n",
       "        vertical-align: top;\n",
       "    }\n",
       "\n",
       "    .dataframe thead th {\n",
       "        text-align: right;\n",
       "    }\n",
       "</style>\n",
       "<table border=\"1\" class=\"dataframe\">\n",
       "  <thead>\n",
       "    <tr style=\"text-align: right;\">\n",
       "      <th></th>\n",
       "      <th>Z</th>\n",
       "      <th>C</th>\n",
       "    </tr>\n",
       "  </thead>\n",
       "  <tbody>\n",
       "    <tr>\n",
       "      <th>0</th>\n",
       "      <td>0</td>\n",
       "      <td>0.727624</td>\n",
       "    </tr>\n",
       "    <tr>\n",
       "      <th>1</th>\n",
       "      <td>1</td>\n",
       "      <td>-1.119755</td>\n",
       "    </tr>\n",
       "    <tr>\n",
       "      <th>2</th>\n",
       "      <td>2</td>\n",
       "      <td>-1.080693</td>\n",
       "    </tr>\n",
       "    <tr>\n",
       "      <th>3</th>\n",
       "      <td>3</td>\n",
       "      <td>-0.910821</td>\n",
       "    </tr>\n",
       "    <tr>\n",
       "      <th>4</th>\n",
       "      <td>4</td>\n",
       "      <td>0.501568</td>\n",
       "    </tr>\n",
       "  </tbody>\n",
       "</table>\n",
       "</div>"
      ],
      "text/plain": [
       "   Z         C\n",
       "0  0  0.727624\n",
       "1  1 -1.119755\n",
       "2  2 -1.080693\n",
       "3  3 -0.910821\n",
       "4  4  0.501568"
      ]
     },
     "execution_count": 43,
     "metadata": {},
     "output_type": "execute_result"
    }
   ],
   "source": [
    "#Menghapus (drop) Setiap Kolom Yang Mengandung Missing Values Berdasarkan Threshold\n",
    "treshold = len(df) * 0.9\n",
    "df = df.dropna(thresh = treshold, axis = 'columns')\n",
    "df.head()"
   ]
  }
 ],
 "metadata": {
  "kernelspec": {
   "display_name": "anaconda-2024.02-py310",
   "language": "python",
   "name": "conda-env-anaconda-2024.02-py310-py"
  },
  "language_info": {
   "codemirror_mode": {
    "name": "ipython",
    "version": 3
   },
   "file_extension": ".py",
   "mimetype": "text/x-python",
   "name": "python",
   "nbconvert_exporter": "python",
   "pygments_lexer": "ipython3",
   "version": "3.10.14"
  }
 },
 "nbformat": 4,
 "nbformat_minor": 5
}
