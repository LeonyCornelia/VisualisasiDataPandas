{
 "cells": [
  {
   "cell_type": "code",
   "execution_count": 2,
   "id": "0a6c44c6-b88e-495c-93a1-87ec8544d6d2",
   "metadata": {},
   "outputs": [],
   "source": [
    "#Mengganti Nama (label) Kolom Pada Data Frame Berdasarkan Pola\n",
    "#LeonyCornelia-2373002"
   ]
  },
  {
   "cell_type": "code",
   "execution_count": 20,
   "id": "d7823c6f-68fd-4684-a9d8-366571917b8a",
   "metadata": {},
   "outputs": [
    {
     "name": "stdout",
     "output_type": "stream",
     "text": [
      "2.1.4\n"
     ]
    }
   ],
   "source": [
    "import pandas as pd\n",
    "\n",
    "print(pd.__version__)"
   ]
  },
  {
   "cell_type": "code",
   "execution_count": null,
   "id": "c2c31621-30ab-489e-ba32-bad805a8d211",
   "metadata": {},
   "outputs": [],
   "source": [
    "df = pd.read_csv('./data/titanicfull.csv')\n",
    "df.columns = ['Pclass', 'Survival status', 'full Name', 'Sex  ', '  Age', \n",
    "              'Sib SP', 'Parch', 'Ticket', 'Fare', 'Cabin', 'Embarked']\n",
    "df_backup = df.copy(deep=True)\n",
    "\n",
    "df.head()"
   ]
  },
  {
   "cell_type": "code",
   "execution_count": null,
   "id": "6b0bfa1c-6812-4412-a737-3a7ca5ed0f3c",
   "metadata": {},
   "outputs": [],
   "source": [
    "#Menggunakan Lowercase Untuk Nama Kolom dan Mengganti Spasi Dengan (_)\n",
    "df.columns = df.columns.str.replace(' ', '_').str.lower()\n",
    "df.head()"
   ]
  },
  {
   "cell_type": "code",
   "execution_count": null,
   "id": "5139c2a4-5c58-497b-957d-17f780abf353",
   "metadata": {},
   "outputs": [],
   "source": [
    "#Memangkas Kelebihan Spasi Pada Nama Kolom\n",
    "df = df_backup.copy(deep = True)\n",
    "\n",
    "df.columns = df.columns.str.lower().str.strip().str.replace(' ', '_')\n",
    "df.head()"
   ]
  }
 ],
 "metadata": {
  "kernelspec": {
   "display_name": "anaconda-2024.02-py310",
   "language": "python",
   "name": "conda-env-anaconda-2024.02-py310-py"
  },
  "language_info": {
   "codemirror_mode": {
    "name": "ipython",
    "version": 3
   },
   "file_extension": ".py",
   "mimetype": "text/x-python",
   "name": "python",
   "nbconvert_exporter": "python",
   "pygments_lexer": "ipython3",
   "version": "3.10.14"
  }
 },
 "nbformat": 4,
 "nbformat_minor": 5
}
