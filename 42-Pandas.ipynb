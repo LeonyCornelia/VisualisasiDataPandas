{
 "cells": [
  {
   "cell_type": "code",
   "execution_count": null,
   "id": "f2588200-3ee5-4b84-b3ba-40315a7a06a4",
   "metadata": {},
   "outputs": [],
   "source": [
    "#Mengurutkan Data Berdasarkan Kolom Tertentu\n",
    "#LeonyCornelia-2373002"
   ]
  },
  {
   "cell_type": "code",
   "execution_count": 1,
   "id": "3a474b15-d09c-4651-92a1-38e2bab7199a",
   "metadata": {},
   "outputs": [
    {
     "name": "stdout",
     "output_type": "stream",
     "text": [
      "2.1.4\n"
     ]
    }
   ],
   "source": [
    "import pandas as pd\n",
    "\n",
    "print(pd.__version__)"
   ]
  },
  {
   "cell_type": "code",
   "execution_count": null,
   "id": "9e36828d-366a-42a5-aec7-f3b2a1a0cd88",
   "metadata": {},
   "outputs": [],
   "source": [
    "#Persiapan Data Frame\n",
    "df = pd.read_csv('./data/titanicfull.csv')\n",
    "df.head()"
   ]
  },
  {
   "cell_type": "code",
   "execution_count": null,
   "id": "1ea855ec-43ef-4130-befe-268575653294",
   "metadata": {},
   "outputs": [],
   "source": [
    "#Mengurutkan Data Berdasarkan Kolom Tertentu\n",
    "df.sort_values('age').head()"
   ]
  },
  {
   "cell_type": "code",
   "execution_count": null,
   "id": "22359d4e-2b30-46ca-91ea-4f65fb4763b4",
   "metadata": {},
   "outputs": [],
   "source": [
    "df.sort_values('age', ascending=False).head()"
   ]
  },
  {
   "cell_type": "code",
   "execution_count": null,
   "id": "608d901e-ce1c-4ecc-8092-e5909adfebdc",
   "metadata": {},
   "outputs": [],
   "source": [
    "df.sort_values(['survived', 'age']).head()"
   ]
  }
 ],
 "metadata": {
  "kernelspec": {
   "display_name": "anaconda-2024.02-py310",
   "language": "python",
   "name": "conda-env-anaconda-2024.02-py310-py"
  },
  "language_info": {
   "codemirror_mode": {
    "name": "ipython",
    "version": 3
   },
   "file_extension": ".py",
   "mimetype": "text/x-python",
   "name": "python",
   "nbconvert_exporter": "python",
   "pygments_lexer": "ipython3",
   "version": "3.10.14"
  }
 },
 "nbformat": 4,
 "nbformat_minor": 5
}
