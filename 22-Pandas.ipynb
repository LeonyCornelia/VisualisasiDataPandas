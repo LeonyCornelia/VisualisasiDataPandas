{
 "cells": [
  {
   "cell_type": "code",
   "execution_count": 2,
   "id": "92b98071-4e31-4c4c-8f66-9a1abebf3fdd",
   "metadata": {},
   "outputs": [],
   "source": [
    "#Memantau Memory Usage Data Frame\n",
    "#LeonyCornelia-2373002"
   ]
  },
  {
   "cell_type": "code",
   "execution_count": 6,
   "id": "223f3344-fb6b-444e-8db1-d5240ab7e5f0",
   "metadata": {},
   "outputs": [
    {
     "name": "stdout",
     "output_type": "stream",
     "text": [
      "2.1.4\n"
     ]
    }
   ],
   "source": [
    "import pandas as pd\n",
    "\n",
    "print(pd.__version__)"
   ]
  },
  {
   "cell_type": "code",
   "execution_count": null,
   "id": "582df9b7-0f1c-4a65-9c6f-5113ce16b116",
   "metadata": {},
   "outputs": [],
   "source": [
    "#Persiapan Data Frame\n",
    "df_titanic = pd.read_csv('./data/titanicfull.csv')\n",
    "df_titanic.head()"
   ]
  },
  {
   "cell_type": "code",
   "execution_count": null,
   "id": "a151296e-6e19-49a0-8fcf-cc418568bc57",
   "metadata": {},
   "outputs": [],
   "source": [
    "df_iris = pd.read_csv('./data/Iris.csv')\n",
    "df_iris.head()"
   ]
  },
  {
   "cell_type": "code",
   "execution_count": null,
   "id": "42c66210-664a-4f3c-b865-c59010f2443b",
   "metadata": {},
   "outputs": [],
   "source": [
    "#Memantau Penggunaan Memory Suatu Data Frame\n",
    "df_titanic.info(memory_usage='deep')"
   ]
  },
  {
   "cell_type": "code",
   "execution_count": null,
   "id": "d8e0d8e6-27bf-44db-a385-d7e32094960e",
   "metadata": {},
   "outputs": [],
   "source": [
    "df_iris.info(memory_usage='deep')"
   ]
  },
  {
   "cell_type": "code",
   "execution_count": null,
   "id": "34683196-4206-488f-b7e6-2d5287cd860c",
   "metadata": {},
   "outputs": [],
   "source": [
    "#Memantau Penggunaan Memory Untuk Setiap Kolom Dari Suatu Data Frame\n",
    "df_titanic.memory_usage(deep=True)"
   ]
  },
  {
   "cell_type": "code",
   "execution_count": null,
   "id": "ec101d7c-e220-4c4a-94dd-a95f5b4192f6",
   "metadata": {},
   "outputs": [],
   "source": [
    "df_iris.memory_usage(deep=True)"
   ]
  }
 ],
 "metadata": {
  "kernelspec": {
   "display_name": "anaconda-2024.02-py310",
   "language": "python",
   "name": "conda-env-anaconda-2024.02-py310-py"
  },
  "language_info": {
   "codemirror_mode": {
    "name": "ipython",
    "version": 3
   },
   "file_extension": ".py",
   "mimetype": "text/x-python",
   "name": "python",
   "nbconvert_exporter": "python",
   "pygments_lexer": "ipython3",
   "version": "3.10.14"
  }
 },
 "nbformat": 4,
 "nbformat_minor": 5
}
