{
 "cells": [
  {
   "cell_type": "code",
   "execution_count": null,
   "id": "91c54197-ca73-427b-a033-83eab8296f0b",
   "metadata": {},
   "outputs": [],
   "source": [
    "#Menerapkan Agregasi Pada Sejumlahj Kolom Dengan agg()\n",
    "#LeonyCornelia-2373002"
   ]
  },
  {
   "cell_type": "code",
   "execution_count": 1,
   "id": "c38455fa-bd9b-4ebb-9c50-3be4c23933b3",
   "metadata": {},
   "outputs": [
    {
     "name": "stdout",
     "output_type": "stream",
     "text": [
      "2.1.4\n"
     ]
    }
   ],
   "source": [
    "import pandas as pd\n",
    "\n",
    "print(pd.__version__)"
   ]
  },
  {
   "cell_type": "code",
   "execution_count": null,
   "id": "dda1c105-dae9-41f3-91d5-46e98d8d5ae9",
   "metadata": {},
   "outputs": [],
   "source": [
    "#Persiapan Data Frame\n",
    "df = pd.read_csv('./data/titanicfull.csv')\n",
    "df.head()"
   ]
  },
  {
   "cell_type": "code",
   "execution_count": null,
   "id": "2d72ad7f-288f-4229-9ed6-f6a464f17fb8",
   "metadata": {},
   "outputs": [],
   "source": [
    "#Menerapkan Agregasi Pada Sejumlah Kolom Dengan agg()\n",
    "df.groupby('pclass').agg({'pclass':'count', \n",
    "                          'age':['mean', 'max'], \n",
    "                          'survived': 'mean'})"
   ]
  },
  {
   "cell_type": "code",
   "execution_count": null,
   "id": "23678fc9-8cae-4ab3-998b-5c590a2057b2",
   "metadata": {},
   "outputs": [],
   "source": [
    "df.groupby('pclass').agg(n_pass=('pclass', 'count'),\n",
    "                         avg_age=('age', 'mean'),\n",
    "                         max_age=('age', 'max'), \n",
    "                         survival_rate=('survived', 'mean'))"
   ]
  }
 ],
 "metadata": {
  "kernelspec": {
   "display_name": "anaconda-2024.02-py310",
   "language": "python",
   "name": "conda-env-anaconda-2024.02-py310-py"
  },
  "language_info": {
   "codemirror_mode": {
    "name": "ipython",
    "version": 3
   },
   "file_extension": ".py",
   "mimetype": "text/x-python",
   "name": "python",
   "nbconvert_exporter": "python",
   "pygments_lexer": "ipython3",
   "version": "3.10.14"
  }
 },
 "nbformat": 4,
 "nbformat_minor": 5
}
