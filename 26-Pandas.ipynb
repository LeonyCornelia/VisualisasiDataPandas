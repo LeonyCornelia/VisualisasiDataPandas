{
 "cells": [
  {
   "cell_type": "code",
   "execution_count": 1,
   "id": "fe0af79d-65d3-49bb-8b6b-8b32a3fc6583",
   "metadata": {},
   "outputs": [],
   "source": [
    "#Membentuk Data Frame Dari Hasil Seleksi Spreadsheed\n",
    "#LeonyCornelia-2373002"
   ]
  },
  {
   "cell_type": "code",
   "execution_count": 5,
   "id": "3aa61c64-9983-4d90-bc1a-1ab12b1dee98",
   "metadata": {},
   "outputs": [
    {
     "name": "stdout",
     "output_type": "stream",
     "text": [
      "2.1.4\n"
     ]
    }
   ],
   "source": [
    "import pandas as pd\n",
    "\n",
    "print(pd.__version__)"
   ]
  },
  {
   "cell_type": "code",
   "execution_count": null,
   "id": "570e3a36-7535-421d-a3f9-d513d5f785a3",
   "metadata": {},
   "outputs": [],
   "source": [
    "#Membuat Data Frame Dari Hasil Seleksi Spredsheet\n",
    "df = pd.read_clipboard()\n",
    "df"
   ]
  }
 ],
 "metadata": {
  "kernelspec": {
   "display_name": "anaconda-2024.02-py310",
   "language": "python",
   "name": "conda-env-anaconda-2024.02-py310-py"
  },
  "language_info": {
   "codemirror_mode": {
    "name": "ipython",
    "version": 3
   },
   "file_extension": ".py",
   "mimetype": "text/x-python",
   "name": "python",
   "nbconvert_exporter": "python",
   "pygments_lexer": "ipython3",
   "version": "3.10.14"
  }
 },
 "nbformat": 4,
 "nbformat_minor": 5
}
